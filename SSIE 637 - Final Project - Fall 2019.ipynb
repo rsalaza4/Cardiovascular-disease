{
 "cells": [
  {
   "cell_type": "markdown",
   "metadata": {},
   "source": [
    "# Course: SSIE 637 - Advanced Topics in Health Systems\n",
    "## Assignment: Final Project - Fall 2019\n",
    "## Binghamton University, S.U.N.Y.\n",
    "## Authors: Roberto Salazar, Tanmayee Mandala, Rohini Shetty"
   ]
  },
  {
   "cell_type": "code",
   "execution_count": 1,
   "metadata": {},
   "outputs": [],
   "source": [
    "# Import libraries\n",
    "import numpy as np\n",
    "import pandas as pd\n",
    "import matplotlib.pyplot as plt\n",
    "%matplotlib inline"
   ]
  },
  {
   "cell_type": "code",
   "execution_count": 2,
   "metadata": {},
   "outputs": [],
   "source": [
    "# Import data set as df\n",
    "df = pd.read_csv(\"cardio_train.csv\",sep=';')"
   ]
  },
  {
   "cell_type": "code",
   "execution_count": 3,
   "metadata": {},
   "outputs": [
    {
     "data": {
      "text/html": [
       "<div>\n",
       "<style scoped>\n",
       "    .dataframe tbody tr th:only-of-type {\n",
       "        vertical-align: middle;\n",
       "    }\n",
       "\n",
       "    .dataframe tbody tr th {\n",
       "        vertical-align: top;\n",
       "    }\n",
       "\n",
       "    .dataframe thead th {\n",
       "        text-align: right;\n",
       "    }\n",
       "</style>\n",
       "<table border=\"1\" class=\"dataframe\">\n",
       "  <thead>\n",
       "    <tr style=\"text-align: right;\">\n",
       "      <th></th>\n",
       "      <th>id</th>\n",
       "      <th>age</th>\n",
       "      <th>gender</th>\n",
       "      <th>height</th>\n",
       "      <th>weight</th>\n",
       "      <th>ap_hi</th>\n",
       "      <th>ap_lo</th>\n",
       "      <th>cholesterol</th>\n",
       "      <th>gluc</th>\n",
       "      <th>smoke</th>\n",
       "      <th>alco</th>\n",
       "      <th>active</th>\n",
       "      <th>cardio</th>\n",
       "    </tr>\n",
       "  </thead>\n",
       "  <tbody>\n",
       "    <tr>\n",
       "      <th>0</th>\n",
       "      <td>0</td>\n",
       "      <td>18393</td>\n",
       "      <td>2</td>\n",
       "      <td>168</td>\n",
       "      <td>62.0</td>\n",
       "      <td>110</td>\n",
       "      <td>80</td>\n",
       "      <td>1</td>\n",
       "      <td>1</td>\n",
       "      <td>0</td>\n",
       "      <td>0</td>\n",
       "      <td>1</td>\n",
       "      <td>0</td>\n",
       "    </tr>\n",
       "    <tr>\n",
       "      <th>1</th>\n",
       "      <td>1</td>\n",
       "      <td>20228</td>\n",
       "      <td>1</td>\n",
       "      <td>156</td>\n",
       "      <td>85.0</td>\n",
       "      <td>140</td>\n",
       "      <td>90</td>\n",
       "      <td>3</td>\n",
       "      <td>1</td>\n",
       "      <td>0</td>\n",
       "      <td>0</td>\n",
       "      <td>1</td>\n",
       "      <td>1</td>\n",
       "    </tr>\n",
       "    <tr>\n",
       "      <th>2</th>\n",
       "      <td>2</td>\n",
       "      <td>18857</td>\n",
       "      <td>1</td>\n",
       "      <td>165</td>\n",
       "      <td>64.0</td>\n",
       "      <td>130</td>\n",
       "      <td>70</td>\n",
       "      <td>3</td>\n",
       "      <td>1</td>\n",
       "      <td>0</td>\n",
       "      <td>0</td>\n",
       "      <td>0</td>\n",
       "      <td>1</td>\n",
       "    </tr>\n",
       "    <tr>\n",
       "      <th>3</th>\n",
       "      <td>3</td>\n",
       "      <td>17623</td>\n",
       "      <td>2</td>\n",
       "      <td>169</td>\n",
       "      <td>82.0</td>\n",
       "      <td>150</td>\n",
       "      <td>100</td>\n",
       "      <td>1</td>\n",
       "      <td>1</td>\n",
       "      <td>0</td>\n",
       "      <td>0</td>\n",
       "      <td>1</td>\n",
       "      <td>1</td>\n",
       "    </tr>\n",
       "    <tr>\n",
       "      <th>4</th>\n",
       "      <td>4</td>\n",
       "      <td>17474</td>\n",
       "      <td>1</td>\n",
       "      <td>156</td>\n",
       "      <td>56.0</td>\n",
       "      <td>100</td>\n",
       "      <td>60</td>\n",
       "      <td>1</td>\n",
       "      <td>1</td>\n",
       "      <td>0</td>\n",
       "      <td>0</td>\n",
       "      <td>0</td>\n",
       "      <td>0</td>\n",
       "    </tr>\n",
       "  </tbody>\n",
       "</table>\n",
       "</div>"
      ],
      "text/plain": [
       "   id    age  gender  height  weight  ap_hi  ap_lo  cholesterol  gluc  smoke  \\\n",
       "0   0  18393       2     168    62.0    110     80            1     1      0   \n",
       "1   1  20228       1     156    85.0    140     90            3     1      0   \n",
       "2   2  18857       1     165    64.0    130     70            3     1      0   \n",
       "3   3  17623       2     169    82.0    150    100            1     1      0   \n",
       "4   4  17474       1     156    56.0    100     60            1     1      0   \n",
       "\n",
       "   alco  active  cardio  \n",
       "0     0       1       0  \n",
       "1     0       1       1  \n",
       "2     0       0       1  \n",
       "3     0       1       1  \n",
       "4     0       0       0  "
      ]
     },
     "execution_count": 3,
     "metadata": {},
     "output_type": "execute_result"
    }
   ],
   "source": [
    "df.head()"
   ]
  },
  {
   "cell_type": "code",
   "execution_count": 4,
   "metadata": {},
   "outputs": [],
   "source": [
    "# Set the features columns\n",
    "df_data = df[[\"age\",\"gender\",\"height\",\"weight\",\"ap_hi\",\"ap_lo\",\"cholesterol\",\"gluc\",\"smoke\",\"alco\",\"active\"]]\n",
    "# Set the target column\n",
    "df_target = df[\"cardio\"]"
   ]
  },
  {
   "cell_type": "code",
   "execution_count": 5,
   "metadata": {},
   "outputs": [],
   "source": [
    "# Import sklearn methods and functions\n",
    "from sklearn.model_selection import KFold\n",
    "from sklearn.model_selection import train_test_split\n",
    "from sklearn.model_selection import cross_val_score\n",
    "from sklearn.model_selection import cross_validate\n",
    "from sklearn.metrics import make_scorer\n",
    "from sklearn.metrics import accuracy_score\n",
    "from sklearn.metrics import precision_score\n",
    "from sklearn.metrics import recall_score\n",
    "from sklearn.metrics import f1_score"
   ]
  },
  {
   "cell_type": "code",
   "execution_count": 6,
   "metadata": {},
   "outputs": [],
   "source": [
    "# Set performance measures\n",
    "scoring = {'accuracy' : make_scorer(accuracy_score), \n",
    "           'precision' : make_scorer(precision_score),\n",
    "           'recall' : make_scorer(recall_score), \n",
    "           'f1_score' : make_scorer(f1_score)}"
   ]
  },
  {
   "cell_type": "code",
   "execution_count": 7,
   "metadata": {},
   "outputs": [],
   "source": [
    "# LOGISTIC REGRESSION MODEL"
   ]
  },
  {
   "cell_type": "code",
   "execution_count": 8,
   "metadata": {
    "scrolled": true
   },
   "outputs": [
    {
     "name": "stderr",
     "output_type": "stream",
     "text": [
      "C:\\Users\\rober\\Anaconda3\\lib\\site-packages\\sklearn\\linear_model\\_logistic.py:939: ConvergenceWarning: lbfgs failed to converge (status=1):\n",
      "STOP: TOTAL NO. of ITERATIONS REACHED LIMIT.\n",
      "\n",
      "Increase the number of iterations (max_iter) or scale the data as shown in:\n",
      "    https://scikit-learn.org/stable/modules/preprocessing.html.\n",
      "Please also refer to the documentation for alternative solver options:\n",
      "    https://scikit-learn.org/stable/modules/linear_model.html#logistic-regression\n",
      "  extra_warning_msg=_LOGISTIC_SOLVER_CONVERGENCE_MSG)\n"
     ]
    }
   ],
   "source": [
    "from sklearn.linear_model import LogisticRegression\n",
    "\n",
    "logmodel = LogisticRegression()\n",
    "logmodel_scores = cross_validate(logmodel, df_data, df_target, cv=5,\n",
    "                        scoring=scoring, return_train_score=False)"
   ]
  },
  {
   "cell_type": "code",
   "execution_count": 9,
   "metadata": {},
   "outputs": [
    {
     "name": "stdout",
     "output_type": "stream",
     "text": [
      "Accuracy test score: 0.695\n",
      "Precision test score: 0.709\n",
      "Sensitivty test score: 0.661\n",
      "F Measure test score: 0.684\n"
     ]
    }
   ],
   "source": [
    "print(\"Accuracy test score: {:.3}\".format(logmodel_scores['test_accuracy'].mean()))\n",
    "print(\"Precision test score: {:.3}\".format(logmodel_scores['test_precision'].mean()))\n",
    "print(\"Sensitivty test score: {:.3}\".format(logmodel_scores['test_recall'].mean()))\n",
    "print(\"F Measure test score: {:.3}\".format(logmodel_scores['test_f1_score'].mean()))"
   ]
  },
  {
   "cell_type": "code",
   "execution_count": 10,
   "metadata": {},
   "outputs": [],
   "source": [
    "# SUPPORT VECTOR MACHINE"
   ]
  },
  {
   "cell_type": "code",
   "execution_count": 11,
   "metadata": {},
   "outputs": [],
   "source": [
    "from sklearn import svm\n",
    "\n",
    "# (this line of code takes a lot to run, be patient!)\n",
    "\n",
    "svm_model = svm.SVC(gamma='scale')\n",
    "svm_scores = cross_validate(svm_model, df_data, df_target, cv=5,\n",
    "                        scoring=scoring, return_train_score=False)"
   ]
  },
  {
   "cell_type": "code",
   "execution_count": 12,
   "metadata": {},
   "outputs": [
    {
     "name": "stdout",
     "output_type": "stream",
     "text": [
      "Accuracy test score: 0.604\n",
      "Precision test score: 0.614\n",
      "Sensitivty test score: 0.559\n",
      "F Measure test score: 0.585\n"
     ]
    }
   ],
   "source": [
    "print(\"Accuracy test score: {:.3}\".format(svm_scores['test_accuracy'].mean()))\n",
    "print(\"Precision test score: {:.3}\".format(svm_scores['test_precision'].mean()))\n",
    "print(\"Sensitivty test score: {:.3}\".format(svm_scores['test_recall'].mean()))\n",
    "print(\"F Measure test score: {:.3}\".format(svm_scores['test_f1_score'].mean()))"
   ]
  },
  {
   "cell_type": "code",
   "execution_count": 13,
   "metadata": {},
   "outputs": [],
   "source": [
    "# K-NEAREST NEIGHBORS"
   ]
  },
  {
   "cell_type": "code",
   "execution_count": 14,
   "metadata": {},
   "outputs": [
    {
     "data": {
      "text/plain": [
       "StandardScaler(copy=True, with_mean=True, with_std=True)"
      ]
     },
     "execution_count": 14,
     "metadata": {},
     "output_type": "execute_result"
    }
   ],
   "source": [
    "# Scale data set features\n",
    "from sklearn.preprocessing import StandardScaler\n",
    "scaler = StandardScaler()\n",
    "scaler.fit(df_data)"
   ]
  },
  {
   "cell_type": "code",
   "execution_count": 15,
   "metadata": {},
   "outputs": [],
   "source": [
    "scaled_features = scaler.transform(df_data)"
   ]
  },
  {
   "cell_type": "code",
   "execution_count": 16,
   "metadata": {},
   "outputs": [
    {
     "data": {
      "text/html": [
       "<div>\n",
       "<style scoped>\n",
       "    .dataframe tbody tr th:only-of-type {\n",
       "        vertical-align: middle;\n",
       "    }\n",
       "\n",
       "    .dataframe tbody tr th {\n",
       "        vertical-align: top;\n",
       "    }\n",
       "\n",
       "    .dataframe thead th {\n",
       "        text-align: right;\n",
       "    }\n",
       "</style>\n",
       "<table border=\"1\" class=\"dataframe\">\n",
       "  <thead>\n",
       "    <tr style=\"text-align: right;\">\n",
       "      <th></th>\n",
       "      <th>age</th>\n",
       "      <th>gender</th>\n",
       "      <th>height</th>\n",
       "      <th>weight</th>\n",
       "      <th>ap_hi</th>\n",
       "      <th>ap_lo</th>\n",
       "      <th>cholesterol</th>\n",
       "      <th>gluc</th>\n",
       "      <th>smoke</th>\n",
       "      <th>alco</th>\n",
       "      <th>active</th>\n",
       "    </tr>\n",
       "  </thead>\n",
       "  <tbody>\n",
       "    <tr>\n",
       "      <th>0</th>\n",
       "      <td>-0.436062</td>\n",
       "      <td>1.364055</td>\n",
       "      <td>0.443452</td>\n",
       "      <td>-0.847873</td>\n",
       "      <td>-0.122182</td>\n",
       "      <td>-0.088238</td>\n",
       "      <td>-0.539322</td>\n",
       "      <td>-0.39572</td>\n",
       "      <td>-0.310879</td>\n",
       "      <td>-0.238384</td>\n",
       "      <td>0.494167</td>\n",
       "    </tr>\n",
       "    <tr>\n",
       "      <th>1</th>\n",
       "      <td>0.307686</td>\n",
       "      <td>-0.733108</td>\n",
       "      <td>-1.018168</td>\n",
       "      <td>0.749831</td>\n",
       "      <td>0.072610</td>\n",
       "      <td>-0.035180</td>\n",
       "      <td>2.400793</td>\n",
       "      <td>-0.39572</td>\n",
       "      <td>-0.310879</td>\n",
       "      <td>-0.238384</td>\n",
       "      <td>0.494167</td>\n",
       "    </tr>\n",
       "    <tr>\n",
       "      <th>2</th>\n",
       "      <td>-0.247997</td>\n",
       "      <td>-0.733108</td>\n",
       "      <td>0.078047</td>\n",
       "      <td>-0.708942</td>\n",
       "      <td>0.007679</td>\n",
       "      <td>-0.141297</td>\n",
       "      <td>2.400793</td>\n",
       "      <td>-0.39572</td>\n",
       "      <td>-0.310879</td>\n",
       "      <td>-0.238384</td>\n",
       "      <td>-2.023607</td>\n",
       "    </tr>\n",
       "    <tr>\n",
       "      <th>3</th>\n",
       "      <td>-0.748152</td>\n",
       "      <td>1.364055</td>\n",
       "      <td>0.565254</td>\n",
       "      <td>0.541435</td>\n",
       "      <td>0.137541</td>\n",
       "      <td>0.017879</td>\n",
       "      <td>-0.539322</td>\n",
       "      <td>-0.39572</td>\n",
       "      <td>-0.310879</td>\n",
       "      <td>-0.238384</td>\n",
       "      <td>0.494167</td>\n",
       "    </tr>\n",
       "    <tr>\n",
       "      <th>4</th>\n",
       "      <td>-0.808543</td>\n",
       "      <td>-0.733108</td>\n",
       "      <td>-1.018168</td>\n",
       "      <td>-1.264666</td>\n",
       "      <td>-0.187113</td>\n",
       "      <td>-0.194356</td>\n",
       "      <td>-0.539322</td>\n",
       "      <td>-0.39572</td>\n",
       "      <td>-0.310879</td>\n",
       "      <td>-0.238384</td>\n",
       "      <td>-2.023607</td>\n",
       "    </tr>\n",
       "  </tbody>\n",
       "</table>\n",
       "</div>"
      ],
      "text/plain": [
       "        age    gender    height    weight     ap_hi     ap_lo  cholesterol  \\\n",
       "0 -0.436062  1.364055  0.443452 -0.847873 -0.122182 -0.088238    -0.539322   \n",
       "1  0.307686 -0.733108 -1.018168  0.749831  0.072610 -0.035180     2.400793   \n",
       "2 -0.247997 -0.733108  0.078047 -0.708942  0.007679 -0.141297     2.400793   \n",
       "3 -0.748152  1.364055  0.565254  0.541435  0.137541  0.017879    -0.539322   \n",
       "4 -0.808543 -0.733108 -1.018168 -1.264666 -0.187113 -0.194356    -0.539322   \n",
       "\n",
       "      gluc     smoke      alco    active  \n",
       "0 -0.39572 -0.310879 -0.238384  0.494167  \n",
       "1 -0.39572 -0.310879 -0.238384  0.494167  \n",
       "2 -0.39572 -0.310879 -0.238384 -2.023607  \n",
       "3 -0.39572 -0.310879 -0.238384  0.494167  \n",
       "4 -0.39572 -0.310879 -0.238384 -2.023607  "
      ]
     },
     "execution_count": 16,
     "metadata": {},
     "output_type": "execute_result"
    }
   ],
   "source": [
    "df_feat = pd.DataFrame(scaled_features,columns=[\"age\",\"gender\",\"height\",\"weight\",\"ap_hi\",\"ap_lo\",\"cholesterol\",\"gluc\",\"smoke\",\"alco\",\"active\"])\n",
    "df_feat.head()"
   ]
  },
  {
   "cell_type": "code",
   "execution_count": 17,
   "metadata": {},
   "outputs": [],
   "source": [
    "X_train, X_test, y_train, y_test = train_test_split(scaled_features,df_target,test_size=0.30)\n",
    "\n",
    "from sklearn.neighbors import KNeighborsClassifier"
   ]
  },
  {
   "cell_type": "code",
   "execution_count": 18,
   "metadata": {},
   "outputs": [],
   "source": [
    "# Choose a K value (this line of code takes a lot to run, be patient!)\n",
    "\n",
    "error_rate = []\n",
    "\n",
    "for i in range(1,40):\n",
    "    \n",
    "    knn = KNeighborsClassifier(n_neighbors=i)\n",
    "    knn.fit(X_train,y_train)\n",
    "    pred_i = knn.predict(X_test)\n",
    "    error_rate.append(np.mean(pred_i != y_test))"
   ]
  },
  {
   "cell_type": "code",
   "execution_count": 19,
   "metadata": {},
   "outputs": [
    {
     "data": {
      "text/plain": [
       "Text(0, 0.5, 'Error Rate')"
      ]
     },
     "execution_count": 19,
     "metadata": {},
     "output_type": "execute_result"
    },
    {
     "data": {
      "image/png": "[encoded data removed]",
      "text/plain": [
       "<Figure size 720x432 with 1 Axes>"
      ]
     },
     "metadata": {
      "needs_background": "light"
     },
     "output_type": "display_data"
    }
   ],
   "source": [
    "plt.figure(figsize=(10,6))\n",
    "plt.plot(range(1,40),error_rate,color='black', marker='o',markerfacecolor='blue', markersize=8)\n",
    "plt.title('Error Rate vs. K Value')\n",
    "plt.xlabel('K')\n",
    "plt.ylabel('Error Rate')"
   ]
  },
  {
   "cell_type": "code",
   "execution_count": 20,
   "metadata": {},
   "outputs": [],
   "source": [
    "knn_model = KNeighborsClassifier(n_neighbors=27)\n",
    "knn_scores = cross_validate(knn_model, df_data, df_target, cv=5,\n",
    "                        scoring=scoring, return_train_score=False)"
   ]
  },
  {
   "cell_type": "code",
   "execution_count": 21,
   "metadata": {},
   "outputs": [
    {
     "name": "stdout",
     "output_type": "stream",
     "text": [
      "Accuracy test score: 0.71\n",
      "Precision test score: 0.736\n",
      "Sensitivty test score: 0.657\n",
      "F Measure test score: 0.694\n"
     ]
    }
   ],
   "source": [
    "print(\"Accuracy test score: {:.3}\".format(knn_scores['test_accuracy'].mean()))\n",
    "print(\"Precision test score: {:.3}\".format(knn_scores['test_precision'].mean()))\n",
    "print(\"Sensitivty test score: {:.3}\".format(knn_scores['test_recall'].mean()))\n",
    "print(\"F Measure test score: {:.3}\".format(knn_scores['test_f1_score'].mean()))"
   ]
  },
  {
   "cell_type": "code",
   "execution_count": 22,
   "metadata": {},
   "outputs": [],
   "source": [
    "# DECISION TREE"
   ]
  },
  {
   "cell_type": "code",
   "execution_count": 23,
   "metadata": {},
   "outputs": [],
   "source": [
    "from sklearn.tree import DecisionTreeClassifier\n",
    "\n",
    "dtree = DecisionTreeClassifier()\n",
    "dtree_scores = cross_validate(dtree, df_data, df_target, cv=5,\n",
    "                        scoring=scoring, return_train_score=False)"
   ]
  },
  {
   "cell_type": "code",
   "execution_count": 24,
   "metadata": {},
   "outputs": [
    {
     "name": "stdout",
     "output_type": "stream",
     "text": [
      "Accuracy test score: 0.633\n",
      "Precision test score: 0.633\n",
      "Sensitivty test score: 0.632\n",
      "F Measure test score: 0.632\n"
     ]
    }
   ],
   "source": [
    "print(\"Accuracy test score: {:.3}\".format(dtree_scores['test_accuracy'].mean()))\n",
    "print(\"Precision test score: {:.3}\".format(dtree_scores['test_precision'].mean()))\n",
    "print(\"Sensitivty test score: {:.3}\".format(dtree_scores['test_recall'].mean()))\n",
    "print(\"F Measure test score: {:.3}\".format(dtree_scores['test_f1_score'].mean()))"
   ]
  },
  {
   "cell_type": "code",
   "execution_count": 25,
   "metadata": {},
   "outputs": [],
   "source": [
    "# RANDOM FORREST"
   ]
  },
  {
   "cell_type": "code",
   "execution_count": 26,
   "metadata": {},
   "outputs": [],
   "source": [
    "from sklearn.ensemble import RandomForestClassifier\n",
    "\n",
    "rfc = RandomForestClassifier(n_estimators=100)\n",
    "rfc_scores = cross_validate(rfc, df_data, df_target, cv=5,\n",
    "                        scoring=scoring, return_train_score=False)"
   ]
  },
  {
   "cell_type": "code",
   "execution_count": 27,
   "metadata": {},
   "outputs": [
    {
     "name": "stdout",
     "output_type": "stream",
     "text": [
      "Accuracy test score: 0.716\n",
      "Precision test score: 0.723\n",
      "Sensitivty test score: 0.701\n",
      "F Measure test score: 0.712\n"
     ]
    }
   ],
   "source": [
    "print(\"Accuracy test score: {:.3}\".format(rfc_scores['test_accuracy'].mean()))\n",
    "print(\"Precision test score: {:.3}\".format(rfc_scores['test_precision'].mean()))\n",
    "print(\"Sensitivty test score: {:.3}\".format(rfc_scores['test_recall'].mean()))\n",
    "print(\"F Measure test score: {:.3}\".format(rfc_scores['test_f1_score'].mean()))"
   ]
  },
  {
   "cell_type": "code",
   "execution_count": 28,
   "metadata": {},
   "outputs": [],
   "source": [
    "# GAUSSIAN NAIVE BAYES"
   ]
  },
  {
   "cell_type": "code",
   "execution_count": 29,
   "metadata": {},
   "outputs": [],
   "source": [
    "from sklearn.naive_bayes import GaussianNB\n",
    "\n",
    "gnb = GaussianNB()\n",
    "gnb_scores = cross_validate(gnb, df_data, df_target, cv=5,\n",
    "                        scoring=scoring, return_train_score=False)"
   ]
  },
  {
   "cell_type": "code",
   "execution_count": 30,
   "metadata": {},
   "outputs": [
    {
     "name": "stdout",
     "output_type": "stream",
     "text": [
      "Accuracy test score: 0.592\n",
      "Precision test score: 0.73\n",
      "Sensitivty test score: 0.294\n",
      "F Measure test score: 0.419\n"
     ]
    }
   ],
   "source": [
    "print(\"Accuracy test score: {:.3}\".format(gnb_scores['test_accuracy'].mean()))\n",
    "print(\"Precision test score: {:.3}\".format(gnb_scores['test_precision'].mean()))\n",
    "print(\"Sensitivty test score: {:.3}\".format(gnb_scores['test_recall'].mean()))\n",
    "print(\"F Measure test score: {:.3}\".format(gnb_scores['test_f1_score'].mean()))"
   ]
  }
 ],
 "metadata": {
  "kernelspec": {
   "display_name": "Python 3",
   "language": "python",
   "name": "python3"
  },
  "language_info": {
   "codemirror_mode": {
    "name": "ipython",
    "version": 3
   },
   "file_extension": ".py",
   "mimetype": "text/x-python",
   "name": "python",
   "nbconvert_exporter": "python",
   "pygments_lexer": "ipython3",
   "version": "3.7.3"
  }
 },
 "nbformat": 4,
 "nbformat_minor": 2
}
